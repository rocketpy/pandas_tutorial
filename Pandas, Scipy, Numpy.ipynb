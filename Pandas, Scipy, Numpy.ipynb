{
 "cells": [
  {
   "cell_type": "code",
   "execution_count": null,
   "metadata": {},
   "outputs": [],
   "source": [
    "%timeit # + some function , checking how long work a function\n",
    "# example\n",
    "import numpy as np\n",
    "%timeit np.arange(0, 1000)\n",
    "%timeit list(range(0, 1000))"
   ]
  },
  {
   "cell_type": "code",
   "execution_count": null,
   "metadata": {},
   "outputs": [],
   "source": [
    "import pandas as pd\n",
    "\n",
    "# create some df\n",
    "df = pd.DataFrame({'id': range(15), 'chars':['name']*15})\n",
    "\n",
    "# read file\n",
    "df = pd.read_csv('file_name.csv', header=0, sep='\\t')  # file_name or path to file \n",
    "\n",
    "# some functions\n",
    "df.dtypes  # type of columns\n",
    "df.shape\n",
    "df.info()\n",
    "df.columns  # list names of columns\n",
    "df.describe()\n",
    "df.head  # show first elems\n",
    "df.tail  # show last elems\n",
    "\n",
    "# adding new line to file\n",
    "new_line = {'key': 'v', 'key': 'v', 'key': 'v'}\n",
    "df = df.append([new_line], ignore_index=True)\n",
    "\n",
    "# adding new column\n",
    "df = df('name_column', [True]*10)\n",
    "\n",
    "# delete some lines\n",
    "df = df.drop([3, 5], axis=0)\n",
    "\n",
    "# delete some column\n",
    "df = df('name_column', axis=1, inplace=True)\n",
    "\n",
    "# write data to file\n",
    "df.to_csv('new_csv', sep=',', header=True, index=True)\n",
    "\n",
    "# indexing by date_time\n",
    "df.Date_start = df.Date_start.apply(pd.to_datetime)  # Date_start is a name of column\n",
    "\n",
    "# replace empty values in column\n",
    "df.Name.fillna('Some_name', inplace=True)  # Name is a name of column\n",
    "\n",
    "df.loc  # show elem by name\n",
    "df.iloc  # show elem by index"
   ]
  },
  {
   "cell_type": "code",
   "execution_count": null,
   "metadata": {},
   "outputs": [],
   "source": [
    "import scipy\n",
    "from scipy import optimize\n",
    "from scipy import linalg\n",
    "\n",
    "x_min = optimize.minimize(f, [3, 5])  # f - some function\n",
    "# linalg example\n",
    "a = np.array([1, 2, 3], [4, 5, 6], [7, 8, 9]) \n",
    "b = np.array([3, 5, 7], [1, 3, 5])\n",
    "x = linalg.solve(a, b)\n",
    "c = np.array([[1, 3, 5]])\n",
    "np.dot(c, x)"
   ]
  },
  {
   "cell_type": "code",
   "execution_count": null,
   "metadata": {},
   "outputs": [],
   "source": [
    "import numpy as np\n",
    "\n",
    "some_list = []\n",
    "arr = np.array(some_list)\n",
    "\n",
    "np.array([1, 2, 3, 4, 5], dtype=float)  # or (start, stop, step, dtype= )\n",
    "\n",
    "matrix = [[1, 2, 3], [4, 5, 6]]\n",
    "nd_array = np.array(matrix)\n",
    "\n",
    "np.shape()\n",
    "np.eye(5)  # single matrix\n",
    "np.ones(7, 5)  # 7- rows , 5- columns , only oneses\n",
    "\n",
    "\n",
    "# gener. some number\n",
    "np.random.rand()  # rand(4, 5) - matrix\n",
    "# gener. some norm number\n",
    "np.random.randn()  # randn(3, 5) - matrix\n",
    "# gener. numbers\n",
    "np.arange()  # arange(0, 10, 0.1) start, stop, step"
   ]
  }
 ],
 "metadata": {
  "kernelspec": {
   "display_name": "Python 3",
   "language": "python",
   "name": "python3"
  },
  "language_info": {
   "codemirror_mode": {
    "name": "ipython",
    "version": 3
   },
   "file_extension": ".py",
   "mimetype": "text/x-python",
   "name": "python",
   "nbconvert_exporter": "python",
   "pygments_lexer": "ipython3",
   "version": "3.6.2"
  }
 },
 "nbformat": 4,
 "nbformat_minor": 2
}
