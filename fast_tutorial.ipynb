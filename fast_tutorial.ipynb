{
 "cells": [
  {
   "cell_type": "code",
   "execution_count": null,
   "metadata": {},
   "outputs": [],
   "source": [
    "import pandas as pd"
   ]
  },
  {
   "cell_type": "code",
   "execution_count": null,
   "metadata": {},
   "outputs": [],
   "source": [
    "data_url = 'http://...'\n",
    "\n",
    "df = pd.read_csv(data_url)  \n",
    "df = pd.read_csv('file_name.csv')\n",
    "df.head(5)\n",
    "df.tail(5)\n",
    "df.info()\n",
    "df.shape\n",
    "df[0:3]  #  access rows by using slicing operations\n",
    "df.iterrows()\n",
    "df.columns\n",
    "df.columns.tolist()\n",
    "df.describe()  # to get a better idea of the type of data\n",
    "df.max()  # min()\n",
    "df['column_name'].max()  # min()\n",
    "df['column_name'].mean()\n",
    "df['column_name'].argmax()\n",
    "df['column_name'].value_counts()"
   ]
  },
  {
   "cell_type": "code",
   "execution_count": null,
   "metadata": {},
   "outputs": [],
   "source": [
    "# rename columns\n",
    "df.rename(columns={'pop':'population','lifeExp':'life_exp','gdpPercap':'gdp_per_cap'}, inplace=True)"
   ]
  },
  {
   "cell_type": "code",
   "execution_count": null,
   "metadata": {},
   "outputs": [],
   "source": [
    "# rename rows or index\n",
    "df.rename(index={0:'zero',1:'one'}, inplace=True)"
   ]
  },
  {
   "cell_type": "code",
   "execution_count": null,
   "metadata": {},
   "outputs": [],
   "source": [
    "# rename columns and rows\n",
    "df.rename(columns={'lifeExp':'life_exp'}, index={0:'zero',1:'one'}, inplace=True)"
   ]
  },
  {
   "cell_type": "code",
   "execution_count": null,
   "metadata": {},
   "outputs": [],
   "source": [
    "# data cleaning , if some rows have empty values \n",
    "df.isnull().sum()"
   ]
  },
  {
   "cell_type": "code",
   "execution_count": null,
   "metadata": {},
   "outputs": [],
   "source": [
    "# very importants methods\n",
    "\n",
    "# drop() - This function removes the column or row that you pass in (You also have the specify the axis).\n",
    "# agg() - The aggregate function lets you compute summary statistics about each group\n",
    "# apply() - Lets you apply a specific function to any/all elements in a Dataframe or Series\n",
    "# get_dummies() - Helpful for turning categorical data into one hot vectors.\n",
    "# drop_duplicates() - Lets you remove identical rows\n",
    "# dropna() - This function allows you to drop all(or some) of the rows that have missing values.\n",
    "# fillna() - This function allows you replace the rows that have missing values with the value that you pass in."
   ]
  },
  {
   "cell_type": "code",
   "execution_count": null,
   "metadata": {},
   "outputs": [],
   "source": [
    "# sorting\n",
    "df.sort_values('column_name').head()\n",
    "df.groupby('column_name')"
   ]
  },
  {
   "cell_type": "code",
   "execution_count": null,
   "metadata": {},
   "outputs": [],
   "source": [
    "# filtering Rows conditionally\n",
    "df[df['column_name'] > 150]"
   ]
  },
  {
   "cell_type": "code",
   "execution_count": null,
   "metadata": {},
   "outputs": [],
   "source": [
    "# grouping\n",
    "\n",
    "df.groupby('column_name')['column_name'].mean().head()\n",
    "df.groupby('column_name')['column_name'].value_counts().head(5)"
   ]
  },
  {
   "cell_type": "code",
   "execution_count": null,
   "metadata": {},
   "outputs": [],
   "source": [
    "# extracting Rows and Columns\n",
    "df[['column_name', 'column_name']].head()\n",
    "\n",
    "df.loc[:, ['column_name', 'column_name']].head()  # accessing and extracting tasks"
   ]
  },
  {
   "cell_type": "code",
   "execution_count": null,
   "metadata": {},
   "outputs": [],
   "source": [
    "# acessing values\n",
    "df.iloc[[df['column_name'].argmax()]]\n",
    "df.iloc[[df['column_name'].argmax()]]['column_name']\n",
    "df.iloc[:3]\n",
    "df.loc[:3]\n",
    "df.loc[df['column_name'].argmax(), 'column_name']"
   ]
  },
  {
   "cell_type": "code",
   "execution_count": null,
   "metadata": {},
   "outputs": [],
   "source": [
    "# dataframe iteration\n",
    "\n",
    "for index, row in df.iterrows():\n",
    "    print row\n",
    "    if index == 1:\n",
    "        break"
   ]
  },
  {
   "cell_type": "code",
   "execution_count": null,
   "metadata": {},
   "outputs": [],
   "source": [
    "# Creating Kaggle Submission CSVs\n",
    "import numpy as np\n",
    "import csv\n",
    "\n",
    "results = [[0,10],[1,15],[2,20]]\n",
    "results = pd.np.array(results)\n",
    "print (results)\n",
    "\n",
    "firstRow = [['id', 'pred']]\n",
    "with open(\"result.csv\", \"wb\") as f:\n",
    "    writer = csv.writer(f)\n",
    "    writer.writerows(firstRow)\n",
    "    writer.writerows(results)"
   ]
  },
  {
   "cell_type": "code",
   "execution_count": null,
   "metadata": {},
   "outputs": [],
   "source": [
    "# visualizing data\n",
    "import matplotlib.pyplot as plt\n",
    "%matplotlib inline\n",
    "\n",
    "ax = df['column_name'].plot.hist(bins=20)\n",
    "ax.set_xlabel('Points')"
   ]
  }
 ],
 "metadata": {
  "kernelspec": {
   "display_name": "Python 3",
   "language": "python",
   "name": "python3"
  },
  "language_info": {
   "codemirror_mode": {
    "name": "ipython",
    "version": 3
   },
   "file_extension": ".py",
   "mimetype": "text/x-python",
   "name": "python",
   "nbconvert_exporter": "python",
   "pygments_lexer": "ipython3",
   "version": "3.6.2"
  }
 },
 "nbformat": 4,
 "nbformat_minor": 2
}
