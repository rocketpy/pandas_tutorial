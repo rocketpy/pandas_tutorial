{
 "cells": [
  {
   "cell_type": "code",
   "execution_count": null,
   "metadata": {},
   "outputs": [],
   "source": [
    "pandas.read_csv?  # or other methods , this command show HELP  info"
   ]
  },
  {
   "cell_type": "code",
   "execution_count": null,
   "metadata": {},
   "outputs": [],
   "source": [
    "# for loading Excel files\n",
    "# pip install xlrd"
   ]
  },
  {
   "cell_type": "code",
   "execution_count": null,
   "metadata": {},
   "outputs": [],
   "source": [
    "import pandas\n",
    "\n",
    "# create a simple data frame\n",
    "df = pandas.DataFrame([[1, 2, 3, 4, 5], [6, 7, 8, 9, 10]])  #  two rows in table\n",
    "\n",
    "# named columns\n",
    "df = pandas.DataFrame([[1, 2, 3], [6, 7, 8]], columns=[\"one\", \"two\", \"three\"])\n",
    "\n",
    "# named indexes\n",
    "df = pandas.DataFrame([[1, 2, 3], [6, 7, 8]], index=[\"one\", \"two\"])\n",
    "\n",
    "# create df with dictionary\n",
    "df = pandas.DataFrame([{\"Name\": \"John\", \"Surname\": \"Gray\"}, {\"Name\": \"Jack\", \"Surname\": \"Brown\"}])\n",
    "\n",
    "# read csv file \n",
    "df = pandas.read_csv(\"file_name.csv\")  # or path to file \"C:\\\\ ... \"\n",
    "\n",
    "# read excel file\n",
    "df = pandas.read_excel(\"file_name.xlsx\", sheetname=0)  # 0 - start from first page\n",
    "\n",
    "# read json file\n",
    "df = pandas.read_json(\"file_name.json\")\n",
    "df.set_index(\"ID\")\n",
    "\n",
    "# read txt file , comma separated file\n",
    "df = pandas.read_csv(\"file_name.txt\")\n",
    "\n",
    "# read txt file with semicolons (;)\n",
    "df = pandas.read_csv(\"file_name.txt\", sep=\";\")\n",
    "\n",
    "# set header row (default numbers)\n",
    "df = pandas.read_csv(\"file_name.txt\", header=None)  # file txt don't have headers\n",
    "\n",
    "# set column names\n",
    "df.columns = [\"One\", \"Two\", \"Three\"]\n",
    "              \n",
    "# rename index column with other name of column\n",
    "df.set_index(\"One\", inplace=True)\n",
    "\n",
    "# set index columns\n",
    "df.set_index(\"ID\")\n",
    "\n",
    "# show list all rows or columns\n",
    "df.index\n",
    "df.columns\n",
    "\n",
    "# shape of table\n",
    "df.shape\n",
    "\n",
    "# methods of df\n",
    "dir(df)\n",
    "\n",
    "# mean() method , 6 -> 6.0\n",
    "df.mean()"
   ]
  },
  {
   "cell_type": "code",
   "execution_count": null,
   "metadata": {},
   "outputs": [],
   "source": [
    "# indexing (extracting) , slicing\n",
    "df.loc[1: 5, \"Two\": \"Three\"]  # from 1 to 5 -> names id , from \"Two\" to \"Three\" names columns\n",
    "\n",
    "# slicing with indexes\n",
    "df.iloc[1:5, 2:4]  # from 1 to 5 -> indexes id , from 2 to 4 columns\n",
    "\n",
    "# take all rows of one column\n",
    "df.loc[:, \"Two\"]\n",
    "\n",
    "# show in list \n",
    "list(df.loc[:, \"Two\"])"
   ]
  },
  {
   "cell_type": "code",
   "execution_count": null,
   "metadata": {},
   "outputs": [],
   "source": [
    "# deleting columns and rows\n",
    "new_df=df.drop(\"Two\", 1)  # 1 - column \n",
    "new_df=df.drop(name_id, 0)  # 0 - row\n",
    "\n",
    "# deleting by indexes\n",
    "new_df=df.drop(df.index[0:3, 0])\n",
    "new_df=df.drop(df.columns[1:3], 1)"
   ]
  },
  {
   "cell_type": "code",
   "execution_count": null,
   "metadata": {},
   "outputs": [],
   "source": [
    "# how to transpose , change sites column names to row site \n",
    "df_t=df.T"
   ]
  },
  {
   "cell_type": "code",
   "execution_count": null,
   "metadata": {},
   "outputs": [],
   "source": [
    "# updating and adding new rows , columns\n",
    "df[\"name_new_column\"]=df.shape[0]*[\"new_values\"]  # add new column with new values for ich rows"
   ]
  },
  {
   "cell_type": "code",
   "execution_count": null,
   "metadata": {},
   "outputs": [],
   "source": [
    "import os\n",
    "\n",
    "# show files in working directory\n",
    "os.listdir()  "
   ]
  },
  {
   "cell_type": "code",
   "execution_count": null,
   "metadata": {},
   "outputs": [],
   "source": [
    "# copy df\n",
    "df2 = df1.copy()\n",
    "\n",
    "# deepcopy\n",
    "from copy import deepcopy\n",
    "df2 = deepcopy(df1)"
   ]
  },
  {
   "cell_type": "code",
   "execution_count": null,
   "metadata": {},
   "outputs": [],
   "source": [
    "# check types of values\n",
    "df.dtypes.value_counts()\n",
    "\n",
    "# list of all columns\n",
    "df.columns.tolist()\n",
    "\n",
    "# when read file and need show first 5 rows\n",
    "# need add to read_csv: nrows = 5\n",
    "\n",
    "# to show first 5 rows like in CSV\n",
    "print(df[:5].to_csv())"
   ]
  },
  {
   "cell_type": "code",
   "execution_count": null,
   "metadata": {},
   "outputs": [],
   "source": [
    "# geocoding addresses with pandas and geopy\n",
    "# pip install geopy\n",
    "\n",
    "import geopy\n",
    "from geopy.geocoders import ArcGIS\n",
    "import pandas as pd\n",
    "\n",
    "nom=ArcGIS()\n",
    "\n",
    "# check some address\n",
    "n=nom.geocode(\"# input some address \")\n",
    "\n",
    "df=pd.read_csv(\"filename.csv\")\n",
    "df[\"Address\"]=df[\"Address\"]+\", \"+df[\"City\"]+\", \"+df[\"State\"]+\", \"+df[\"Country\"]\n",
    "\n",
    "df[\"Coordinates\"]=df[\"Address\"].apply(nom.geocode)\n",
    "\n",
    "df.Coordinates[0].latitude\n",
    "\n",
    "df[\"Latitude\"]=df[\"Coordinates\"].apply(lambda x: x.latitude if x != None else None)\n",
    "df[\"Longtitude\"]=df[\"Coordinates\"].apply(lambda x: x.longtitude if x != None else None)"
   ]
  }
 ],
 "metadata": {
  "kernelspec": {
   "display_name": "Python 3",
   "language": "python",
   "name": "python3"
  },
  "language_info": {
   "codemirror_mode": {
    "name": "ipython",
    "version": 3
   },
   "file_extension": ".py",
   "mimetype": "text/x-python",
   "name": "python",
   "nbconvert_exporter": "python",
   "pygments_lexer": "ipython3",
   "version": "3.6.2"
  }
 },
 "nbformat": 4,
 "nbformat_minor": 2
}
